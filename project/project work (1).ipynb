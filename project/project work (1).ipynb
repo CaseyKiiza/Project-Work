{
 "cells": [
  {
   "cell_type": "code",
   "execution_count": null,
   "metadata": {},
   "outputs": [],
   "source": [
    "from random import randint"
   ]
  },
  {
   "cell_type": "code",
   "execution_count": null,
   "metadata": {},
   "outputs": [],
   "source": [
    "class SnakesAndLadders:\n",
    "    SNAKES = {\n",
    "        27: 8,\n",
    "        34: 7,\n",
    "        29: 3,\n",
    "        69: 31,\n",
    "        72: 36,\n",
    "        77: 46,\n",
    "        80: 41,\n",
    "        96: 48,\n",
    "        98: 79,\n",
    "    }\n",
    "\n",
    "    LADDERS = {\n",
    "        4: 16,\n",
    "        6: 25,\n",
    "        12: 49,\n",
    "        20: 40,\n",
    "        38: 88,\n",
    "        58: 62,\n",
    "        71: 93,\n",
    "        78: 84,\n",
    "        86: 95,\n",
    "    }\n",
    "    \n",
    "    LAST_TILE = 100\n",
    "    \n",
    "    def __init__(self, n_players, verbose = False):\n",
    "        self.n_players = n_players\n",
    "        self.verbose = verbose\n",
    "        self.players = [0] * n_players\n",
    "        self.turn = 0\n",
    "        self.winner = None # can use to determine if game is over"
   ]
  }
 ],
 "metadata": {
  "language_info": {
   "name": "python"
  },
  "orig_nbformat": 4
 },
 "nbformat": 4,
 "nbformat_minor": 2
}
